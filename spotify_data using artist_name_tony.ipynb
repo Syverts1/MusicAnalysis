{
 "cells": [
  {
   "cell_type": "markdown",
   "metadata": {},
   "source": [
    "### Dependencies and Imports"
   ]
  },
  {
   "cell_type": "code",
   "execution_count": 1,
   "metadata": {},
   "outputs": [],
   "source": [
    "#Dependencies and Imports\n",
    "import spotipy\n",
    "import requests\n",
    "import sys\n",
    "import spotipy.util as util\n",
    "from spotipy.oauth2 import SpotifyClientCredentials\n",
    "import numpy as np\n",
    "import random\n",
    "import pandas as pd\n",
    "import matplotlib\n",
    "import matplotlib.pyplot as plt\n",
    "import json\n",
    "import time\n",
    "import sys\n",
    "from pprint import pprint\n",
    "import os\n",
    "import csv"
   ]
  },
  {
   "cell_type": "markdown",
   "metadata": {},
   "source": [
    "### ID and Password for accessing Spotify API"
   ]
  },
  {
   "cell_type": "code",
   "execution_count": null,
   "metadata": {},
   "outputs": [],
   "source": [
    "### ID and Password for accessing Spotify API\n",
    "client_id = \"af2ec23866f84e8a8e3039b1d749938e\"\n",
    "client_secret = \"e765f25f6d6443028cbfc2cd0259ed7c\"\n",
    "\n",
    "# Replace Spotify access token each hour!\n",
    "access_token = \"BQAoaapRZq5Gv0IshSLNh_6iTAHG64jdul6NQWBLs71MAt3c3XZKddNxjhCYUuHZ5OdtSxOjpql2dUq2uK6V7zPk-7JoKUwfQJrDf-KsK6A8-NIhGqZtsKzD4gND9AQn9CSG4vnwG8y9LiExEyE8zK6wT8pe_nt_W3Nyt53PA7rTg73cEFv7WwkYY3kl-UBxUTkoOGQr9EVdJ4SSAJ67x48QfdEqYUIvAXveaTODKI31mRK-WuGXCJzgVjHf1jH1O3oBcNPK\"\n",
    "\n",
    "# Setup the credentials\n",
    "client_credentials_manager = SpotifyClientCredentials(client_id=client_id, client_secret=client_secret)\n",
    "\n",
    "# Make the connection\n",
    "sp = spotipy.Spotify(client_credentials_manager=client_credentials_manager,auth=access_token)\n"
   ]
  },
  {
   "cell_type": "markdown",
   "metadata": {},
   "source": [
    "### Lists to store data"
   ]
  },
  {
   "cell_type": "code",
   "execution_count": 2,
   "metadata": {},
   "outputs": [],
   "source": [
    "# Lists to store data\n",
    "index = []\n",
    "id=[]\n",
    "title=[]\n",
    "song_count=[]      \n",
    "followers_count=[]\n",
    "genres=[]\n",
    "popularity=[]"
   ]
  },
  {
   "cell_type": "markdown",
   "metadata": {},
   "source": [
    "### Create Dataframe and fill lists for id, title and song_count"
   ]
  },
  {
   "cell_type": "code",
   "execution_count": 4,
   "metadata": {},
   "outputs": [
    {
     "data": {
      "text/plain": [
       "(9820, 9820, 9820)"
      ]
     },
     "execution_count": 4,
     "metadata": {},
     "output_type": "execute_result"
    }
   ],
   "source": [
    "# Create Dataframe and fill lists for id, title and song_count\n",
    "csv_path = \"artist.csv\"\n",
    "artist_df=pd.read_csv(csv_path,encoding=\"ANSI\")\n",
    "id=artist_df['id'].unique()\n",
    "title= artist_df['title'].unique()\n",
    "song_count=artist_df['song_count']\n",
    "#len(title),len(id), len(song_count)\n"
   ]
  },
  {
   "cell_type": "markdown",
   "metadata": {},
   "source": [
    "### Initial Spotify search"
   ]
  },
  {
   "cell_type": "code",
   "execution_count": null,
   "metadata": {},
   "outputs": [],
   "source": [
    "# Initial Spotify search\n",
    "i=\"A\"\n",
    "result=sp.search(i,limit=1, offset=0, type='artist', market=\"US\")\n",
    "sub=result['artists']['items']\n",
    "for follow in sub:\n",
    "    followers_count = sub[0][\"followers\"][\"total\"]\n",
    "    genres = sub[0][\"genres\"]\n",
    "    popularity=sub[0][\"popularity\"]\n"
   ]
  },
  {
   "cell_type": "markdown",
   "metadata": {},
   "source": [
    "### Append Spotify Results to Lists followers_count. genres, popularity"
   ]
  },
  {
   "cell_type": "code",
   "execution_count": null,
   "metadata": {},
   "outputs": [],
   "source": [
    "# Append Spotify Results to Lists\n",
    "for i in title:\n",
    "    result = sp.search(i,limit=1, offset=0, type='artist', market=\"US\")\n",
    "    #pprint(result)\n",
    "    sub=result['artists']['items']\n",
    "    for follow in sub:\n",
    "        followerscount = sub[0][\"followers\"][\"total\"]\n",
    "        #genres = sub[0][\"genres\"]\n",
    "        popular=sub[0][\"popularity\"]\n",
    "        followers_count.append(followerscount)\n",
    "        #genres.append(genres)\n",
    "        popularity.append(popular)\n",
    "        next\n",
    "    next\n"
   ]
  },
  {
   "cell_type": "markdown",
   "metadata": {},
   "source": [
    "### Zip up our lists"
   ]
  },
  {
   "cell_type": "code",
   "execution_count": null,
   "metadata": {},
   "outputs": [],
   "source": [
    "#cleaned_csv = zip(id,title,song_count,followers_count,genres,popularity)\n",
    "\n",
    "cleaned_csv = zip(id,title,song_count,followers_count,popularity)  # dropped genres\n",
    "print(cleaned_csv)"
   ]
  },
  {
   "cell_type": "markdown",
   "metadata": {},
   "source": [
    "### Send Data to output_file"
   ]
  },
  {
   "cell_type": "code",
   "execution_count": null,
   "metadata": {},
   "outputs": [],
   "source": [
    "# Send Data to output file\n",
    "output_file = os.path.join(\"artistfinal.csv\")\n",
    "with open(output_file, \"w\", newline=\"\", encoding=\"UTF-8\") as datafile:\n",
    "    writer = csv.writer(datafile)\n",
    "    \n",
    "    #writer.writerow([\"id\", \"title\", \"song_count\",\"followers_count\", \"genres\", \"popularity\"])\n",
    "    \n",
    "    writer.writerow([\"id\", \"title\", \"song_count\",\"followers_count\", \"popularity\"]) # dropped genres\n",
    "    \n",
    "    writer.writerows(cleaned_csv)"
   ]
  }
 ],
 "metadata": {
  "kernelspec": {
   "display_name": "Python 3",
   "language": "python",
   "name": "python3"
  },
  "language_info": {
   "codemirror_mode": {
    "name": "ipython",
    "version": 3
   },
   "file_extension": ".py",
   "mimetype": "text/x-python",
   "name": "python",
   "nbconvert_exporter": "python",
   "pygments_lexer": "ipython3",
   "version": "3.6.4"
  }
 },
 "nbformat": 4,
 "nbformat_minor": 2
}
