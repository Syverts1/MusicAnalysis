{
 "cells": [
  {
   "cell_type": "code",
   "execution_count": 227,
   "metadata": {
    "collapsed": true
   },
   "outputs": [],
   "source": [
    "import spotipy\n",
    "import requests\n",
    "import sys\n",
    "import spotipy.util as util\n",
    "from spotipy.oauth2 import SpotifyClientCredentials\n",
    "import numpy as np\n",
    "import random\n",
    "import pandas as pd\n",
    "import matplotlib\n",
    "import matplotlib.pyplot as plt\n",
    "import json\n",
    "import time\n",
    "import sys\n",
    "from pprint import pprint\n",
    "import os\n",
    "import csv"
   ]
  },
  {
   "cell_type": "code",
   "execution_count": 253,
   "metadata": {
    "collapsed": true
   },
   "outputs": [],
   "source": [
    "# ID and Password for accessing Spotify API\n",
    "client_id = \"af2ec23866f84e8a8e3039b1d749938e\"\n",
    "client_secret = \"e765f25f6d6443028cbfc2cd0259ed7c\"\n",
    "access_token = \"BQBAQRVLek8pFW0LzZsGd7mstvoVi_-MZl1ZNvBKyRyWIsGNLxEIWzc08l4lz7kD4SYvB_ZtCjg7LLi1YGTU_kK20jwmlDgUpL0W4o7ypq7OheLcgt8pRX_D1noJBbH8BjCBjvIpqVKPzSzmOnLrfZmdg6XoOTnjP_m3XPPC0Fwbjx-OzxB_3FooZTee3ctH2d5_NOQK2e8ieGyhw8SbSkRh4umCQw8aHYuRlVZRWjfh8eEpUwPqumSVPpZYGUA3ycxE2udv\"\n",
    "# Setup the credentials\n",
    "client_credentials_manager = SpotifyClientCredentials(client_id=client_id, client_secret=client_secret)\n",
    "\n",
    "# Make the connection\n",
    "sp = spotipy.Spotify(client_credentials_manager=client_credentials_manager,auth=access_token)\n"
   ]
  },
  {
   "cell_type": "code",
   "execution_count": 254,
   "metadata": {},
   "outputs": [
    {
     "data": {
      "text/html": [
       "<div>\n",
       "<style>\n",
       "    .dataframe thead tr:only-child th {\n",
       "        text-align: right;\n",
       "    }\n",
       "\n",
       "    .dataframe thead th {\n",
       "        text-align: left;\n",
       "    }\n",
       "\n",
       "    .dataframe tbody tr th {\n",
       "        vertical-align: top;\n",
       "    }\n",
       "</style>\n",
       "<table border=\"1\" class=\"dataframe\">\n",
       "  <thead>\n",
       "    <tr style=\"text-align: right;\">\n",
       "      <th></th>\n",
       "      <th>id</th>\n",
       "      <th>artist_id</th>\n",
       "      <th>title</th>\n",
       "      <th>content</th>\n",
       "    </tr>\n",
       "  </thead>\n",
       "  <tbody>\n",
       "    <tr>\n",
       "      <th>0</th>\n",
       "      <td>1</td>\n",
       "      <td>1</td>\n",
       "      <td>6 O'clock</td>\n",
       "      <td>6 o'clock on a tube stop, waiting for a subway...</td>\n",
       "    </tr>\n",
       "    <tr>\n",
       "      <th>1</th>\n",
       "      <td>2</td>\n",
       "      <td>1</td>\n",
       "      <td>Going Down</td>\n",
       "      <td>Suck it up, we're going down\\n30 seconds 'till...</td>\n",
       "    </tr>\n",
       "    <tr>\n",
       "      <th>2</th>\n",
       "      <td>3</td>\n",
       "      <td>1</td>\n",
       "      <td>Hi-Fi Serious</td>\n",
       "      <td>Right back at you, record three\\nMakes you wis...</td>\n",
       "    </tr>\n",
       "    <tr>\n",
       "      <th>3</th>\n",
       "      <td>4</td>\n",
       "      <td>1</td>\n",
       "      <td>Hold Back The Rain</td>\n",
       "      <td>Hold back the rain\\nYes we're miles away from ...</td>\n",
       "    </tr>\n",
       "    <tr>\n",
       "      <th>4</th>\n",
       "      <td>5</td>\n",
       "      <td>1</td>\n",
       "      <td>Hungry Like The Wolf</td>\n",
       "      <td>Darken the city night is awire steam in the su...</td>\n",
       "    </tr>\n",
       "  </tbody>\n",
       "</table>\n",
       "</div>"
      ],
      "text/plain": [
       "   id  artist_id                 title  \\\n",
       "0   1          1             6 O'clock   \n",
       "1   2          1            Going Down   \n",
       "2   3          1         Hi-Fi Serious   \n",
       "3   4          1    Hold Back The Rain   \n",
       "4   5          1  Hungry Like The Wolf   \n",
       "\n",
       "                                             content  \n",
       "0  6 o'clock on a tube stop, waiting for a subway...  \n",
       "1  Suck it up, we're going down\\n30 seconds 'till...  \n",
       "2  Right back at you, record three\\nMakes you wis...  \n",
       "3  Hold back the rain\\nYes we're miles away from ...  \n",
       "4  Darken the city night is awire steam in the su...  "
      ]
     },
     "execution_count": 254,
     "metadata": {},
     "output_type": "execute_result"
    }
   ],
   "source": [
    "csv_path = \"lyric.csv\"\n",
    "df=pd.read_csv(csv_path,encoding=\"ANSI\")\n",
    "df.head()\n"
   ]
  },
  {
   "cell_type": "code",
   "execution_count": 255,
   "metadata": {
    "scrolled": true
   },
   "outputs": [
    {
     "data": {
      "text/html": [
       "<div>\n",
       "<style>\n",
       "    .dataframe thead tr:only-child th {\n",
       "        text-align: right;\n",
       "    }\n",
       "\n",
       "    .dataframe thead th {\n",
       "        text-align: left;\n",
       "    }\n",
       "\n",
       "    .dataframe tbody tr th {\n",
       "        vertical-align: top;\n",
       "    }\n",
       "</style>\n",
       "<table border=\"1\" class=\"dataframe\">\n",
       "  <thead>\n",
       "    <tr style=\"text-align: right;\">\n",
       "      <th></th>\n",
       "      <th>title</th>\n",
       "    </tr>\n",
       "  </thead>\n",
       "  <tbody>\n",
       "    <tr>\n",
       "      <th>0</th>\n",
       "      <td>6 O'clock</td>\n",
       "    </tr>\n",
       "    <tr>\n",
       "      <th>1</th>\n",
       "      <td>Going Down</td>\n",
       "    </tr>\n",
       "    <tr>\n",
       "      <th>2</th>\n",
       "      <td>Hi-Fi Serious</td>\n",
       "    </tr>\n",
       "    <tr>\n",
       "      <th>3</th>\n",
       "      <td>Hold Back The Rain</td>\n",
       "    </tr>\n",
       "    <tr>\n",
       "      <th>4</th>\n",
       "      <td>Hungry Like The Wolf</td>\n",
       "    </tr>\n",
       "  </tbody>\n",
       "</table>\n",
       "</div>"
      ],
      "text/plain": [
       "                  title\n",
       "0             6 O'clock\n",
       "1            Going Down\n",
       "2         Hi-Fi Serious\n",
       "3    Hold Back The Rain\n",
       "4  Hungry Like The Wolf"
      ]
     },
     "execution_count": 255,
     "metadata": {},
     "output_type": "execute_result"
    }
   ],
   "source": [
    "df_title = df[[\"title\"]]\n",
    "\n",
    "df_title.head()"
   ]
  },
  {
   "cell_type": "code",
   "execution_count": 256,
   "metadata": {},
   "outputs": [
    {
     "name": "stdout",
     "output_type": "stream",
     "text": [
      "Devvon Terrell\n",
      "Weird Nights\n",
      "2017-10-06\n"
     ]
    }
   ],
   "source": [
    "i=\"6 O'clock\"\n",
    "result=sp.search(i,limit=1, offset=0, type='track', market=\"US\")\n",
    "artist_name= result['tracks']['items'][0]['artists'][0]['name']\n",
    "album_name=result['tracks']['items'][0]['album']['name']\n",
    "album_release_date= result['tracks']['items'][0]['album']['release_date']\n",
    "#pprint(result)\n",
    "print(name)\n",
    "print(album_name)\n",
    "print(album_release_date)"
   ]
  },
  {
   "cell_type": "code",
   "execution_count": 251,
   "metadata": {},
   "outputs": [
    {
     "name": "stdout",
     "output_type": "stream",
     "text": [
      "Devvon Terrell\n",
      "Weird Nights\n",
      "2017-10-06\n"
     ]
    },
    {
     "ename": "AttributeError",
     "evalue": "'str' object has no attribute 'append'",
     "output_type": "error",
     "traceback": [
      "\u001b[1;31m---------------------------------------------------------------------------\u001b[0m",
      "\u001b[1;31mAttributeError\u001b[0m                            Traceback (most recent call last)",
      "\u001b[1;32m<ipython-input-251-1a01f50f3348>\u001b[0m in \u001b[0;36m<module>\u001b[1;34m()\u001b[0m\n\u001b[0;32m     18\u001b[0m         \u001b[0mid\u001b[0m\u001b[1;33m.\u001b[0m\u001b[0mappend\u001b[0m\u001b[1;33m(\u001b[0m\u001b[0mrow\u001b[0m\u001b[1;33m[\u001b[0m\u001b[1;36m0\u001b[0m\u001b[1;33m]\u001b[0m\u001b[1;33m)\u001b[0m\u001b[1;33m\u001b[0m\u001b[0m\n\u001b[0;32m     19\u001b[0m         \u001b[0mtitle\u001b[0m\u001b[1;33m.\u001b[0m\u001b[0mappend\u001b[0m\u001b[1;33m(\u001b[0m\u001b[0mrow\u001b[0m\u001b[1;33m[\u001b[0m\u001b[1;36m2\u001b[0m\u001b[1;33m]\u001b[0m\u001b[1;33m)\u001b[0m\u001b[1;33m\u001b[0m\u001b[0m\n\u001b[1;32m---> 20\u001b[1;33m         \u001b[0martist_name\u001b[0m\u001b[1;33m.\u001b[0m\u001b[0mappend\u001b[0m\u001b[1;33m(\u001b[0m\u001b[0martist_name\u001b[0m\u001b[1;33m[\u001b[0m\u001b[1;36m0\u001b[0m\u001b[1;33m]\u001b[0m\u001b[1;33m)\u001b[0m\u001b[1;33m\u001b[0m\u001b[0m\n\u001b[0m\u001b[0;32m     21\u001b[0m         \u001b[1;32mfor\u001b[0m \u001b[0mval\u001b[0m \u001b[1;32min\u001b[0m \u001b[0malbum_name\u001b[0m\u001b[1;33m:\u001b[0m\u001b[1;33m\u001b[0m\u001b[0m\n\u001b[0;32m     22\u001b[0m             \u001b[0malbum_name\u001b[0m\u001b[1;33m.\u001b[0m\u001b[0mappend\u001b[0m\u001b[1;33m(\u001b[0m\u001b[0malbum_name\u001b[0m\u001b[1;33m[\u001b[0m\u001b[1;36m0\u001b[0m\u001b[1;33m]\u001b[0m\u001b[1;33m)\u001b[0m\u001b[1;33m\u001b[0m\u001b[0m\n",
      "\u001b[1;31mAttributeError\u001b[0m: 'str' object has no attribute 'append'"
     ]
    }
   ],
   "source": [
    "track_csv=os.path.join(\"lyric.csv\")\n",
    "id=[]\n",
    "title=[]\n",
    "\n",
    "album_release_date=[]\n",
    "\n",
    "with open(track_csv, newline=\"\") as csvfile:\n",
    "    csvreader= csv.reader(csvfile, delimiter=\",\")\n",
    "    for row in csvreader:\n",
    "        id.append(row[0])\n",
    "        title.append(row[2])\n",
    "        artist_name.append(artist_name[0])\n",
    "        for val in album_name:\n",
    "            album_name.append(album_name[0])\n",
    "        for val in album_release_date:\n",
    "            album_release_date.append(val)\n",
    "cleaned_csv = zip(id,title,artist_name,album_name,album_release_date)\n",
    "print(cleaned_csv)\n",
    "\n",
    "output_file = os.path.join(\"trackfinal.csv\")\n",
    "with open(output_file, \"w\", newline=\"\", encoding=\"UTF-8\") as datafile:\n",
    "    writer = csv.writer(datafile)\n",
    "    \n",
    "    writer.writerow([\"id\", \"title\",\"artist_name\", \"album_name\", \"album_release_date\"])\n",
    "    writer.writerows(cleaned_csv)\n"
   ]
  },
  {
   "cell_type": "code",
   "execution_count": 240,
   "metadata": {
    "collapsed": true
   },
   "outputs": [],
   "source": [
    "id=[]\n",
    "title=[]\n",
    "artist_name=[]\n",
    "album_name=[]\n",
    "album_release_date=[]"
   ]
  },
  {
   "cell_type": "code",
   "execution_count": null,
   "metadata": {},
   "outputs": [],
   "source": [
    "for i in df_title[\"title\"]:\n",
    "    result=sp.search(i,limit=1, offset=0, type='track', market=\"US\")\n",
    "    #pprint(result)\n",
    "    sub=result['tracks']['items']\n",
    "    for j in sub:\n",
    "        artist_name= sub[0]['artists'][0]['name']\n",
    "        album_name=sub[0]['album']['name']\n",
    "        album_release_date= sub[0]['album']['release_date']\n",
    "        #pprint(result)\n",
    "        pprint(artist_name)\n",
    "        pprint(album_name)\n",
    "        pprint(album_release_date)\n",
    "        next\n",
    "    next "
   ]
  },
  {
   "cell_type": "code",
   "execution_count": 226,
   "metadata": {},
   "outputs": [
    {
     "ename": "NameError",
     "evalue": "name 'track_csv' is not defined",
     "output_type": "error",
     "traceback": [
      "\u001b[1;31m---------------------------------------------------------------------------\u001b[0m",
      "\u001b[1;31mNameError\u001b[0m                                 Traceback (most recent call last)",
      "\u001b[1;32m<ipython-input-226-b2e335a48d0a>\u001b[0m in \u001b[0;36m<module>\u001b[1;34m()\u001b[0m\n\u001b[1;32m----> 1\u001b[1;33m \u001b[1;32mwith\u001b[0m \u001b[0mopen\u001b[0m\u001b[1;33m(\u001b[0m\u001b[0mtrack_csv\u001b[0m\u001b[1;33m,\u001b[0m \u001b[0mnewline\u001b[0m\u001b[1;33m=\u001b[0m\u001b[1;34m\"\"\u001b[0m\u001b[1;33m)\u001b[0m \u001b[1;32mas\u001b[0m \u001b[0mcsvfile\u001b[0m\u001b[1;33m:\u001b[0m\u001b[1;33m\u001b[0m\u001b[0m\n\u001b[0m\u001b[0;32m      2\u001b[0m     \u001b[0mcsvreader\u001b[0m\u001b[1;33m=\u001b[0m \u001b[0mcsv\u001b[0m\u001b[1;33m.\u001b[0m\u001b[0mreader\u001b[0m\u001b[1;33m(\u001b[0m\u001b[0mcsvfile\u001b[0m\u001b[1;33m,\u001b[0m \u001b[0mdelimiter\u001b[0m\u001b[1;33m=\u001b[0m\u001b[1;34m\",\"\u001b[0m\u001b[1;33m)\u001b[0m\u001b[1;33m\u001b[0m\u001b[0m\n\u001b[0;32m      3\u001b[0m     \u001b[1;32mfor\u001b[0m \u001b[0mrow\u001b[0m \u001b[1;32min\u001b[0m \u001b[0mcsvreader\u001b[0m\u001b[1;33m:\u001b[0m\u001b[1;33m\u001b[0m\u001b[0m\n\u001b[0;32m      4\u001b[0m         \u001b[0mid\u001b[0m\u001b[1;33m.\u001b[0m\u001b[0mappend\u001b[0m\u001b[1;33m(\u001b[0m\u001b[0mrow\u001b[0m\u001b[1;33m[\u001b[0m\u001b[1;36m0\u001b[0m\u001b[1;33m]\u001b[0m\u001b[1;33m)\u001b[0m\u001b[1;33m\u001b[0m\u001b[0m\n\u001b[0;32m      5\u001b[0m         \u001b[0mtitle\u001b[0m\u001b[1;33m.\u001b[0m\u001b[0mappend\u001b[0m\u001b[1;33m(\u001b[0m\u001b[0mrow\u001b[0m\u001b[1;33m[\u001b[0m\u001b[1;36m2\u001b[0m\u001b[1;33m]\u001b[0m\u001b[1;33m)\u001b[0m\u001b[1;33m\u001b[0m\u001b[0m\n",
      "\u001b[1;31mNameError\u001b[0m: name 'track_csv' is not defined"
     ]
    }
   ],
   "source": [
    "with open(track_csv, newline=\"\") as csvfile:\n",
    "    csvreader= csv.reader(csvfile, delimiter=\",\")\n",
    "    for row in csvreader:\n",
    "        id.append(row[0])\n",
    "        title.append(row[2])\n",
    "        for val in artist_name:\n",
    "            artist_name.append(val)\n",
    "        for val in album_name:\n",
    "            album_name.append(val)\n",
    "        for val in album_release_date:\n",
    "            album_release_date.append(val)\n",
    "cleaned_csv = zip(id,title,artist_name,album_name,album_release_date)\n",
    "print(cleaned_csv)\n",
    "\n",
    "output_file = os.path.join(\"trackfinal.csv\")\n",
    "with open(output_file, \"w\", newline=\"\", encoding=\"UTF-8\") as datafile:\n",
    "    writer = csv.writer(datafile)\n",
    "    \n",
    "    writer.writerow([\"id\", \"title\",\"artist_name\", \"album_name\", \"album_release_date\"])\n",
    "    writer.writerows(cleaned_csv)"
   ]
  },
  {
   "cell_type": "code",
   "execution_count": null,
   "metadata": {
    "collapsed": true
   },
   "outputs": [],
   "source": []
  }
 ],
 "metadata": {
  "kernelspec": {
   "display_name": "Python 3",
   "language": "python",
   "name": "python3"
  },
  "language_info": {
   "codemirror_mode": {
    "name": "ipython",
    "version": 3
   },
   "file_extension": ".py",
   "mimetype": "text/x-python",
   "name": "python",
   "nbconvert_exporter": "python",
   "pygments_lexer": "ipython3",
   "version": "3.6.3"
  }
 },
 "nbformat": 4,
 "nbformat_minor": 2
}
