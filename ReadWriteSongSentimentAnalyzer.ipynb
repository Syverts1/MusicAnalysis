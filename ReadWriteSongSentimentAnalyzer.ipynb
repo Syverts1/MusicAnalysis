{
 "cells": [
  {
   "cell_type": "markdown",
   "metadata": {},
   "source": [
    "### Dependencies/Imports"
   ]
  },
  {
   "cell_type": "code",
   "execution_count": null,
   "metadata": {},
   "outputs": [],
   "source": [
    "#Dependencies/Imports\n",
    "import os\n",
    "import csv\n",
    "import time\n",
    "import pandas as pd\n",
    "from vaderSentiment.vaderSentiment import SentimentIntensityAnalyzer\n",
    "analyzer = SentimentIntensityAnalyzer()"
   ]
  },
  {
   "cell_type": "markdown",
   "metadata": {},
   "source": [
    "### Lists to store data"
   ]
  },
  {
   "cell_type": "code",
   "execution_count": null,
   "metadata": {},
   "outputs": [],
   "source": [
    "# Lists to store data\n",
    "index = []\n",
    "id=[]\n",
    "artistid=[]\n",
    "title = []\n",
    "content=[]\n",
    "compound_score=[]\n",
    "pos_score=[]\n",
    "neu_score=[]\n",
    "neg_score=[]\n",
    "i=0\n",
    "length = []"
   ]
  },
  {
   "cell_type": "markdown",
   "metadata": {},
   "source": [
    "### Open Datafile and Process Rows"
   ]
  },
  {
   "cell_type": "code",
   "execution_count": null,
   "metadata": {},
   "outputs": [],
   "source": [
    "# Set and Open Path to datafile\n",
    "lyrics_csv = os.path.join(\"lyric.csv\")\n",
    "i=0\n",
    "with open(lyrics_csv, newline=\"\", encoding=\"UTF-8\") as csvfile:\n",
    "    csvreader= csv.reader(csvfile, delimiter=\",\")     \n",
    "    #Process rows\n",
    "    for row in csvreader:  \n",
    "        \n",
    "        #for testing to see output\n",
    "        i=i+1\n",
    "        print(i)\n",
    "        \n",
    "        # Target String Setting\n",
    "        target_string = row[3]\n",
    "\n",
    "        # Run analysis\n",
    "        compound = analyzer.polarity_scores(target_string)[\"compound\"]\n",
    "        pos = analyzer.polarity_scores(target_string)[\"pos\"]\n",
    "        neu = analyzer.polarity_scores(target_string)[\"neu\"]\n",
    "        neg = analyzer.polarity_scores(target_string)[\"neg\"]\n",
    "    \n",
    "        if target_string !=\"\" and compound != 0 and neu != 1: #set conditionals to avoid bad rows                   \n",
    "            \n",
    "            # Add Id column\n",
    "            id.append(row[0])\n",
    "\n",
    "            # Add artistid\n",
    "            artistid.append(row[1])\n",
    "\n",
    "            # Add title\n",
    "            title.append(row[2])\n",
    "\n",
    "            # Add content\n",
    "            content.append(row[3])\n",
    "\n",
    "            # Run analysis from content or song lyrics\n",
    "            compound_score.append(compound)\n",
    "            pos_score.append(pos)\n",
    "            neu_score.append(neu)\n",
    "            neg_score.append(neg)      "
   ]
  },
  {
   "cell_type": "markdown",
   "metadata": {},
   "source": [
    "### Prepare and Send Output to File"
   ]
  },
  {
   "cell_type": "code",
   "execution_count": null,
   "metadata": {},
   "outputs": [],
   "source": [
    "\n",
    "# Zip lists together\n",
    "cleaned_csv = zip(id, artistid, title, compound_score, pos_score, neu_score, neg_score)\n",
    "\n",
    "# Set variable for output file\n",
    "output_file = os.path.join(\"songfile_sentanalys.csv\")\n",
    "\n",
    "#  Open the output file\n",
    "with open(output_file, \"w\", newline=\"\", encoding=\"UTF-8\") as datafile:\n",
    "    writer = csv.writer(datafile)\n",
    "\n",
    "    # Write the header row\n",
    "    writer.writerow([\"id\", \"artistid\", \"title\", \"compound_score\",\n",
    "                     \"pos_score\", \"neu_score\", \"neg_score\"])\n",
    "\n",
    "    # Write in zipped rows\n",
    "    writer.writerows(cleaned_csv)"
   ]
  }
 ],
 "metadata": {
  "kernelspec": {
   "display_name": "Python 3",
   "language": "python",
   "name": "python3"
  },
  "language_info": {
   "codemirror_mode": {
    "name": "ipython",
    "version": 3
   },
   "file_extension": ".py",
   "mimetype": "text/x-python",
   "name": "python",
   "nbconvert_exporter": "python",
   "pygments_lexer": "ipython3",
   "version": "3.6.4"
  }
 },
 "nbformat": 4,
 "nbformat_minor": 2
}
