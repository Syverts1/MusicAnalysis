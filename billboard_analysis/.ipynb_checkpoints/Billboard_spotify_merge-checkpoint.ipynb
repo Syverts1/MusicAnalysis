{
 "cells": [
  {
   "cell_type": "markdown",
   "metadata": {},
   "source": [
    "### Dependencies and Imports"
   ]
  },
  {
   "cell_type": "code",
   "execution_count": 1,
   "metadata": {
    "collapsed": true
   },
   "outputs": [],
   "source": [
    "#Dependencies and Imports\n",
    "import spotipy\n",
    "import requests\n",
    "import spotipy.util as util\n",
    "from spotipy.oauth2 import SpotifyClientCredentials\n",
    "import pprint as pprint\n",
    "import pandas as pd\n",
    "import json\n",
    "import os\n",
    "import csv\n",
    "import sys"
   ]
  },
  {
   "cell_type": "markdown",
   "metadata": {},
   "source": [
    "### ID and Password for accessing Spotify API"
   ]
  },
  {
   "cell_type": "code",
   "execution_count": 2,
   "metadata": {
    "collapsed": true
   },
   "outputs": [],
   "source": [
    "### ID and Password for accessing Spotify API\n",
    "client_id = \"7f7553c4d1b64d36952992adbf5cb2d0\"\n",
    "client_secret = \"ac14b01e359d4446b51bfb69aaab5d81\"\n",
    "\n",
    "# Replace Spotify access token each hour!\n",
    "access_token = \"BQAoaapRZq5Gv0IshSLNh_6iTAHG64jdul6NQWBLs71MAt3c3XZKddNxjhCYUuHZ5OdtSxOjpql2dUq2uK6V7zPk-7JoKUwfQJrDf-KsK6A8-NIhGqZtsKzD4gND9AQn9CSG4vnwG8y9LiExEyE8zK6wT8pe_nt_W3Nyt53PA7rTg73cEFv7WwkYY3kl-UBxUTkoOGQr9EVdJ4SSAJ67x48QfdEqYUIvAXveaTODKI31mRK-WuGXCJzgVjHf1jH1O3oBcNPK\"\n",
    "\n",
    "# Setup the credentials\n",
    "client_credentials_manager = SpotifyClientCredentials(client_id=client_id, client_secret=client_secret)\n",
    "\n",
    "# Make the connection\n",
    "sp = spotipy.Spotify(client_credentials_manager=client_credentials_manager)\n"
   ]
  },
  {
   "cell_type": "markdown",
   "metadata": {},
   "source": [
    "### Lists to store data"
   ]
  },
  {
   "cell_type": "code",
   "execution_count": 3,
   "metadata": {
    "collapsed": true
   },
   "outputs": [],
   "source": [
    "# Lists to store data\n",
    "sp_id=[]     \n",
    "followers_count=[]\n",
    "genres=[]\n",
    "popularity=[]\n",
    "sp_name=[]"
   ]
  },
  {
   "cell_type": "markdown",
   "metadata": {},
   "source": [
    "### Create Dataframe from Sentiment Analysis csv"
   ]
  },
  {
   "cell_type": "code",
   "execution_count": 4,
   "metadata": {},
   "outputs": [
    {
     "name": "stdout",
     "output_type": "stream",
     "text": [
      "                                      Title                         Artist  \\\n",
      "0                               wooly bully  sam the sham and the pharaohs   \n",
      "1  i cant help myself sugar pie honey bunch                      four tops   \n",
      "2                i cant get no satisfaction             the rolling stones   \n",
      "3                       you were on my mind                        we five   \n",
      "4              youve lost that lovin feelin         the righteous brothers   \n",
      "\n",
      "   Year  Rank                                             Lyrics  Source  \\\n",
      "0  1965     1  sam the sham miscellaneous wooly bully wooly b...     3.0   \n",
      "1  1965     2  Ooh, sugar pie, honey bunch You know that I lo...     1.0   \n",
      "2  1965     3  I can't get no satisfaction, I can't get no sa...     1.0   \n",
      "3  1965     4  Verse 1 When I woke up this morning You were o...     1.0   \n",
      "4  1965     5  You never close your eyes anymore when I kiss ...     1.0   \n",
      "\n",
      "                                            CheckURL  comp_score  pos_score  \\\n",
      "0  http://www.metrolyrics.com/wooly-bully-lyrics-...     -0.9946      0.020   \n",
      "1  http://www.metrolyrics.com/i-cant-help-myself-...      0.9586      0.149   \n",
      "2  http://www.metrolyrics.com/i-cant-get-no-satis...      0.9142      0.216   \n",
      "3  http://www.metrolyrics.com/you-were-on-my-mind...     -0.9607      0.057   \n",
      "4  http://www.metrolyrics.com/youve-lost-that-lov...      0.9840      0.207   \n",
      "\n",
      "   neu_score  neg_score  \n",
      "0      0.628      0.352  \n",
      "1      0.749      0.102  \n",
      "2      0.664      0.120  \n",
      "3      0.769      0.174  \n",
      "4      0.726      0.066  \n"
     ]
    }
   ],
   "source": [
    "# Load Billboard csv and Create Dataframe\n",
    "csv_path = \"billboard_sentanalys.csv\"\n",
    "\n",
    "df=pd.read_csv(csv_path,encoding=\"ANSI\")\n",
    "\n",
    "print(df.head())"
   ]
  },
  {
   "cell_type": "code",
   "execution_count": 5,
   "metadata": {},
   "outputs": [
    {
     "name": "stdout",
     "output_type": "stream",
     "text": [
      "              main_artist\n",
      "0            sam the sham\n",
      "1               four tops\n",
      "2      the rolling stones\n",
      "3                 we five\n",
      "4  the righteous brothers\n"
     ]
    }
   ],
   "source": [
    "#Get Artist from CheckURL (since we want to analyze based on main artist; not featured ppl)\n",
    "mainartist = df[\"CheckURL\"].replace(to_replace=[\"http://www.metrolyrics.com/\",\"-\",\".html\"],value=[\"\",\" \",\"\"],regex=True)\n",
    "\n",
    "mainartist = [item.split() for item in mainartist]\n",
    " \n",
    "    \n",
    "#print(mainartist)\n",
    "for i,row in enumerate(mainartist):\n",
    "    \n",
    "    for index,item in enumerate(row):\n",
    "        \n",
    "        if item == \"lyrics\":\n",
    "            mainartist[i] = row[(index+1):]\n",
    "            \n",
    "            break\n",
    "\n",
    "mainartist = [\" \".join(row) for row in mainartist]\n",
    "\n",
    "mainartist_df = pd.DataFrame({\"main_artist\":mainartist})\n",
    "\n",
    "print(mainartist_df.head())"
   ]
  },
  {
   "cell_type": "code",
   "execution_count": 6,
   "metadata": {},
   "outputs": [
    {
     "data": {
      "text/html": [
       "<div>\n",
       "<style>\n",
       "    .dataframe thead tr:only-child th {\n",
       "        text-align: right;\n",
       "    }\n",
       "\n",
       "    .dataframe thead th {\n",
       "        text-align: left;\n",
       "    }\n",
       "\n",
       "    .dataframe tbody tr th {\n",
       "        vertical-align: top;\n",
       "    }\n",
       "</style>\n",
       "<table border=\"1\" class=\"dataframe\">\n",
       "  <thead>\n",
       "    <tr style=\"text-align: right;\">\n",
       "      <th></th>\n",
       "      <th>Title</th>\n",
       "      <th>Artist</th>\n",
       "      <th>Year</th>\n",
       "      <th>Rank</th>\n",
       "      <th>Lyrics</th>\n",
       "      <th>Source</th>\n",
       "      <th>CheckURL</th>\n",
       "      <th>comp_score</th>\n",
       "      <th>pos_score</th>\n",
       "      <th>neu_score</th>\n",
       "      <th>neg_score</th>\n",
       "      <th>main_artist</th>\n",
       "    </tr>\n",
       "  </thead>\n",
       "  <tbody>\n",
       "    <tr>\n",
       "      <th>0</th>\n",
       "      <td>wooly bully</td>\n",
       "      <td>sam the sham and the pharaohs</td>\n",
       "      <td>1965</td>\n",
       "      <td>1</td>\n",
       "      <td>sam the sham miscellaneous wooly bully wooly b...</td>\n",
       "      <td>3.0</td>\n",
       "      <td>http://www.metrolyrics.com/wooly-bully-lyrics-...</td>\n",
       "      <td>-0.9946</td>\n",
       "      <td>0.020</td>\n",
       "      <td>0.628</td>\n",
       "      <td>0.352</td>\n",
       "      <td>sam the sham</td>\n",
       "    </tr>\n",
       "    <tr>\n",
       "      <th>1</th>\n",
       "      <td>i cant help myself sugar pie honey bunch</td>\n",
       "      <td>four tops</td>\n",
       "      <td>1965</td>\n",
       "      <td>2</td>\n",
       "      <td>Ooh, sugar pie, honey bunch You know that I lo...</td>\n",
       "      <td>1.0</td>\n",
       "      <td>http://www.metrolyrics.com/i-cant-help-myself-...</td>\n",
       "      <td>0.9586</td>\n",
       "      <td>0.149</td>\n",
       "      <td>0.749</td>\n",
       "      <td>0.102</td>\n",
       "      <td>four tops</td>\n",
       "    </tr>\n",
       "    <tr>\n",
       "      <th>2</th>\n",
       "      <td>i cant get no satisfaction</td>\n",
       "      <td>the rolling stones</td>\n",
       "      <td>1965</td>\n",
       "      <td>3</td>\n",
       "      <td>I can't get no satisfaction, I can't get no sa...</td>\n",
       "      <td>1.0</td>\n",
       "      <td>http://www.metrolyrics.com/i-cant-get-no-satis...</td>\n",
       "      <td>0.9142</td>\n",
       "      <td>0.216</td>\n",
       "      <td>0.664</td>\n",
       "      <td>0.120</td>\n",
       "      <td>the rolling stones</td>\n",
       "    </tr>\n",
       "    <tr>\n",
       "      <th>3</th>\n",
       "      <td>you were on my mind</td>\n",
       "      <td>we five</td>\n",
       "      <td>1965</td>\n",
       "      <td>4</td>\n",
       "      <td>Verse 1 When I woke up this morning You were o...</td>\n",
       "      <td>1.0</td>\n",
       "      <td>http://www.metrolyrics.com/you-were-on-my-mind...</td>\n",
       "      <td>-0.9607</td>\n",
       "      <td>0.057</td>\n",
       "      <td>0.769</td>\n",
       "      <td>0.174</td>\n",
       "      <td>we five</td>\n",
       "    </tr>\n",
       "    <tr>\n",
       "      <th>4</th>\n",
       "      <td>youve lost that lovin feelin</td>\n",
       "      <td>the righteous brothers</td>\n",
       "      <td>1965</td>\n",
       "      <td>5</td>\n",
       "      <td>You never close your eyes anymore when I kiss ...</td>\n",
       "      <td>1.0</td>\n",
       "      <td>http://www.metrolyrics.com/youve-lost-that-lov...</td>\n",
       "      <td>0.9840</td>\n",
       "      <td>0.207</td>\n",
       "      <td>0.726</td>\n",
       "      <td>0.066</td>\n",
       "      <td>the righteous brothers</td>\n",
       "    </tr>\n",
       "  </tbody>\n",
       "</table>\n",
       "</div>"
      ],
      "text/plain": [
       "                                      Title                         Artist  \\\n",
       "0                               wooly bully  sam the sham and the pharaohs   \n",
       "1  i cant help myself sugar pie honey bunch                      four tops   \n",
       "2                i cant get no satisfaction             the rolling stones   \n",
       "3                       you were on my mind                        we five   \n",
       "4              youve lost that lovin feelin         the righteous brothers   \n",
       "\n",
       "   Year  Rank                                             Lyrics  Source  \\\n",
       "0  1965     1  sam the sham miscellaneous wooly bully wooly b...     3.0   \n",
       "1  1965     2  Ooh, sugar pie, honey bunch You know that I lo...     1.0   \n",
       "2  1965     3  I can't get no satisfaction, I can't get no sa...     1.0   \n",
       "3  1965     4  Verse 1 When I woke up this morning You were o...     1.0   \n",
       "4  1965     5  You never close your eyes anymore when I kiss ...     1.0   \n",
       "\n",
       "                                            CheckURL  comp_score  pos_score  \\\n",
       "0  http://www.metrolyrics.com/wooly-bully-lyrics-...     -0.9946      0.020   \n",
       "1  http://www.metrolyrics.com/i-cant-help-myself-...      0.9586      0.149   \n",
       "2  http://www.metrolyrics.com/i-cant-get-no-satis...      0.9142      0.216   \n",
       "3  http://www.metrolyrics.com/you-were-on-my-mind...     -0.9607      0.057   \n",
       "4  http://www.metrolyrics.com/youve-lost-that-lov...      0.9840      0.207   \n",
       "\n",
       "   neu_score  neg_score             main_artist  \n",
       "0      0.628      0.352            sam the sham  \n",
       "1      0.749      0.102               four tops  \n",
       "2      0.664      0.120      the rolling stones  \n",
       "3      0.769      0.174                 we five  \n",
       "4      0.726      0.066  the righteous brothers  "
      ]
     },
     "execution_count": 6,
     "metadata": {},
     "output_type": "execute_result"
    }
   ],
   "source": [
    "#add main artist list to current dataframe\n",
    "\n",
    "df = pd.concat([df,mainartist_df], axis=1)\n",
    "\n",
    "df.head()"
   ]
  },
  {
   "cell_type": "code",
   "execution_count": 18,
   "metadata": {},
   "outputs": [
    {
     "data": {
      "text/html": [
       "<div>\n",
       "<style>\n",
       "    .dataframe thead tr:only-child th {\n",
       "        text-align: right;\n",
       "    }\n",
       "\n",
       "    .dataframe thead th {\n",
       "        text-align: left;\n",
       "    }\n",
       "\n",
       "    .dataframe tbody tr th {\n",
       "        vertical-align: top;\n",
       "    }\n",
       "</style>\n",
       "<table border=\"1\" class=\"dataframe\">\n",
       "  <thead>\n",
       "    <tr style=\"text-align: right;\">\n",
       "      <th></th>\n",
       "      <th>main_artist</th>\n",
       "      <th>Year</th>\n",
       "      <th>Rank</th>\n",
       "      <th>Source</th>\n",
       "      <th>comp_score</th>\n",
       "      <th>pos_score</th>\n",
       "      <th>neu_score</th>\n",
       "      <th>neg_score</th>\n",
       "      <th>followers</th>\n",
       "      <th>genre</th>\n",
       "      <th>popularity</th>\n",
       "      <th>sp_id</th>\n",
       "      <th>sp_name</th>\n",
       "    </tr>\n",
       "  </thead>\n",
       "  <tbody>\n",
       "    <tr>\n",
       "      <th>0</th>\n",
       "      <td>100 proof aged in soul</td>\n",
       "      <td>1970.000000</td>\n",
       "      <td>84.000000</td>\n",
       "      <td>NaN</td>\n",
       "      <td>NaN</td>\n",
       "      <td>NaN</td>\n",
       "      <td>NaN</td>\n",
       "      <td>NaN</td>\n",
       "      <td></td>\n",
       "      <td></td>\n",
       "      <td></td>\n",
       "      <td></td>\n",
       "      <td></td>\n",
       "    </tr>\n",
       "    <tr>\n",
       "      <th>1</th>\n",
       "      <td>10000 maniacs</td>\n",
       "      <td>1994.000000</td>\n",
       "      <td>40.000000</td>\n",
       "      <td>1.000000</td>\n",
       "      <td>0.993600</td>\n",
       "      <td>0.234000</td>\n",
       "      <td>0.699000</td>\n",
       "      <td>0.066000</td>\n",
       "      <td></td>\n",
       "      <td></td>\n",
       "      <td></td>\n",
       "      <td></td>\n",
       "      <td></td>\n",
       "    </tr>\n",
       "    <tr>\n",
       "      <th>2</th>\n",
       "      <td>10cc</td>\n",
       "      <td>1976.000000</td>\n",
       "      <td>43.000000</td>\n",
       "      <td>1.000000</td>\n",
       "      <td>0.995500</td>\n",
       "      <td>0.191000</td>\n",
       "      <td>0.771000</td>\n",
       "      <td>0.038000</td>\n",
       "      <td></td>\n",
       "      <td></td>\n",
       "      <td></td>\n",
       "      <td></td>\n",
       "      <td></td>\n",
       "    </tr>\n",
       "    <tr>\n",
       "      <th>3</th>\n",
       "      <td>112</td>\n",
       "      <td>1999.833333</td>\n",
       "      <td>50.500000</td>\n",
       "      <td>1.333333</td>\n",
       "      <td>0.668350</td>\n",
       "      <td>0.146500</td>\n",
       "      <td>0.796000</td>\n",
       "      <td>0.057500</td>\n",
       "      <td></td>\n",
       "      <td></td>\n",
       "      <td></td>\n",
       "      <td></td>\n",
       "      <td></td>\n",
       "    </tr>\n",
       "    <tr>\n",
       "      <th>4</th>\n",
       "      <td>1910 fruitgum company</td>\n",
       "      <td>1968.333333</td>\n",
       "      <td>49.333333</td>\n",
       "      <td>1.666667</td>\n",
       "      <td>0.496667</td>\n",
       "      <td>0.189333</td>\n",
       "      <td>0.731333</td>\n",
       "      <td>0.079333</td>\n",
       "      <td></td>\n",
       "      <td></td>\n",
       "      <td></td>\n",
       "      <td></td>\n",
       "      <td></td>\n",
       "    </tr>\n",
       "  </tbody>\n",
       "</table>\n",
       "</div>"
      ],
      "text/plain": [
       "              main_artist         Year       Rank    Source  comp_score  \\\n",
       "0  100 proof aged in soul  1970.000000  84.000000       NaN         NaN   \n",
       "1           10000 maniacs  1994.000000  40.000000  1.000000    0.993600   \n",
       "2                    10cc  1976.000000  43.000000  1.000000    0.995500   \n",
       "3                     112  1999.833333  50.500000  1.333333    0.668350   \n",
       "4   1910 fruitgum company  1968.333333  49.333333  1.666667    0.496667   \n",
       "\n",
       "   pos_score  neu_score  neg_score followers genre popularity sp_id sp_name  \n",
       "0        NaN        NaN        NaN                                           \n",
       "1   0.234000   0.699000   0.066000                                           \n",
       "2   0.191000   0.771000   0.038000                                           \n",
       "3   0.146500   0.796000   0.057500                                           \n",
       "4   0.189333   0.731333   0.079333                                           "
      ]
     },
     "execution_count": 18,
     "metadata": {},
     "output_type": "execute_result"
    }
   ],
   "source": [
    "#Groupby artist name\n",
    "artist_group = df.groupby([\"main_artist\"]).mean()\n",
    "\n",
    "artist_group = artist_group.reset_index()\n",
    "\n",
    "artist_group = artist_group.assign(followers=\"\",popularity=\"\",sp_name=\"\",sp_id=\"\",genre=\"\")\n",
    "\n",
    "artist_group.head()"
   ]
  },
  {
   "cell_type": "code",
   "execution_count": 21,
   "metadata": {},
   "outputs": [
    {
     "ename": "KeyError",
     "evalue": "\"['' '' '' ..., '' '' ''] not in index\"",
     "output_type": "error",
     "traceback": [
      "\u001b[1;31m---------------------------------------------------------------------------\u001b[0m",
      "\u001b[1;31mTypeError\u001b[0m                                 Traceback (most recent call last)",
      "\u001b[1;32m~\\Anaconda3\\envs\\PythonData\\lib\\site-packages\\pandas\\core\\frame.py\u001b[0m in \u001b[0;36mset_value\u001b[1;34m(self, index, col, value, takeable)\u001b[0m\n\u001b[0;32m   1853\u001b[0m \u001b[1;33m\u001b[0m\u001b[0m\n\u001b[1;32m-> 1854\u001b[1;33m             \u001b[0mseries\u001b[0m \u001b[1;33m=\u001b[0m \u001b[0mself\u001b[0m\u001b[1;33m.\u001b[0m\u001b[0m_get_item_cache\u001b[0m\u001b[1;33m(\u001b[0m\u001b[0mcol\u001b[0m\u001b[1;33m)\u001b[0m\u001b[1;33m\u001b[0m\u001b[0m\n\u001b[0m\u001b[0;32m   1855\u001b[0m             \u001b[0mengine\u001b[0m \u001b[1;33m=\u001b[0m \u001b[0mself\u001b[0m\u001b[1;33m.\u001b[0m\u001b[0mindex\u001b[0m\u001b[1;33m.\u001b[0m\u001b[0m_engine\u001b[0m\u001b[1;33m\u001b[0m\u001b[0m\n",
      "\u001b[1;32m~\\Anaconda3\\envs\\PythonData\\lib\\site-packages\\pandas\\core\\generic.py\u001b[0m in \u001b[0;36m_get_item_cache\u001b[1;34m(self, item)\u001b[0m\n\u001b[0;32m   1642\u001b[0m         \u001b[0mcache\u001b[0m \u001b[1;33m=\u001b[0m \u001b[0mself\u001b[0m\u001b[1;33m.\u001b[0m\u001b[0m_item_cache\u001b[0m\u001b[1;33m\u001b[0m\u001b[0m\n\u001b[1;32m-> 1643\u001b[1;33m         \u001b[0mres\u001b[0m \u001b[1;33m=\u001b[0m \u001b[0mcache\u001b[0m\u001b[1;33m.\u001b[0m\u001b[0mget\u001b[0m\u001b[1;33m(\u001b[0m\u001b[0mitem\u001b[0m\u001b[1;33m)\u001b[0m\u001b[1;33m\u001b[0m\u001b[0m\n\u001b[0m\u001b[0;32m   1644\u001b[0m         \u001b[1;32mif\u001b[0m \u001b[0mres\u001b[0m \u001b[1;32mis\u001b[0m \u001b[1;32mNone\u001b[0m\u001b[1;33m:\u001b[0m\u001b[1;33m\u001b[0m\u001b[0m\n",
      "\u001b[1;32m~\\Anaconda3\\envs\\PythonData\\lib\\site-packages\\pandas\\core\\generic.py\u001b[0m in \u001b[0;36m__hash__\u001b[1;34m(self)\u001b[0m\n\u001b[0;32m    878\u001b[0m         raise TypeError('{0!r} objects are mutable, thus they cannot be'\n\u001b[1;32m--> 879\u001b[1;33m                         ' hashed'.format(self.__class__.__name__))\n\u001b[0m\u001b[0;32m    880\u001b[0m \u001b[1;33m\u001b[0m\u001b[0m\n",
      "\u001b[1;31mTypeError\u001b[0m: 'Series' objects are mutable, thus they cannot be hashed",
      "\nDuring handling of the above exception, another exception occurred:\n",
      "\u001b[1;31mKeyError\u001b[0m                                  Traceback (most recent call last)",
      "\u001b[1;32m<ipython-input-21-76b8ef763857>\u001b[0m in \u001b[0;36m<module>\u001b[1;34m()\u001b[0m\n\u001b[1;32m----> 1\u001b[1;33m \u001b[0martist_group\u001b[0m\u001b[1;33m.\u001b[0m\u001b[0mset_value\u001b[0m\u001b[1;33m(\u001b[0m\u001b[1;36m4\u001b[0m\u001b[1;33m,\u001b[0m\u001b[0martist_group\u001b[0m\u001b[1;33m[\u001b[0m\u001b[1;34m\"followers\"\u001b[0m\u001b[1;33m]\u001b[0m\u001b[1;33m,\u001b[0m\u001b[1;34m\"merp\"\u001b[0m\u001b[1;33m)\u001b[0m\u001b[1;33m\u001b[0m\u001b[0m\n\u001b[0m\u001b[0;32m      2\u001b[0m \u001b[1;33m\u001b[0m\u001b[0m\n\u001b[0;32m      3\u001b[0m \u001b[0martist_group\u001b[0m\u001b[1;33m.\u001b[0m\u001b[0mhead\u001b[0m\u001b[1;33m(\u001b[0m\u001b[1;33m)\u001b[0m\u001b[1;33m\u001b[0m\u001b[0m\n",
      "\u001b[1;32m~\\Anaconda3\\envs\\PythonData\\lib\\site-packages\\pandas\\core\\frame.py\u001b[0m in \u001b[0;36mset_value\u001b[1;34m(self, index, col, value, takeable)\u001b[0m\n\u001b[0;32m   1859\u001b[0m \u001b[1;33m\u001b[0m\u001b[0m\n\u001b[0;32m   1860\u001b[0m             \u001b[1;31m# set using a non-recursive method & reset the cache\u001b[0m\u001b[1;33m\u001b[0m\u001b[1;33m\u001b[0m\u001b[0m\n\u001b[1;32m-> 1861\u001b[1;33m             \u001b[0mself\u001b[0m\u001b[1;33m.\u001b[0m\u001b[0mloc\u001b[0m\u001b[1;33m[\u001b[0m\u001b[0mindex\u001b[0m\u001b[1;33m,\u001b[0m \u001b[0mcol\u001b[0m\u001b[1;33m]\u001b[0m \u001b[1;33m=\u001b[0m \u001b[0mvalue\u001b[0m\u001b[1;33m\u001b[0m\u001b[0m\n\u001b[0m\u001b[0;32m   1862\u001b[0m             \u001b[0mself\u001b[0m\u001b[1;33m.\u001b[0m\u001b[0m_item_cache\u001b[0m\u001b[1;33m.\u001b[0m\u001b[0mpop\u001b[0m\u001b[1;33m(\u001b[0m\u001b[0mcol\u001b[0m\u001b[1;33m,\u001b[0m \u001b[1;32mNone\u001b[0m\u001b[1;33m)\u001b[0m\u001b[1;33m\u001b[0m\u001b[0m\n\u001b[0;32m   1863\u001b[0m \u001b[1;33m\u001b[0m\u001b[0m\n",
      "\u001b[1;32m~\\Anaconda3\\envs\\PythonData\\lib\\site-packages\\pandas\\core\\indexing.py\u001b[0m in \u001b[0;36m__setitem__\u001b[1;34m(self, key, value)\u001b[0m\n\u001b[0;32m    176\u001b[0m         \u001b[1;32melse\u001b[0m\u001b[1;33m:\u001b[0m\u001b[1;33m\u001b[0m\u001b[0m\n\u001b[0;32m    177\u001b[0m             \u001b[0mkey\u001b[0m \u001b[1;33m=\u001b[0m \u001b[0mcom\u001b[0m\u001b[1;33m.\u001b[0m\u001b[0m_apply_if_callable\u001b[0m\u001b[1;33m(\u001b[0m\u001b[0mkey\u001b[0m\u001b[1;33m,\u001b[0m \u001b[0mself\u001b[0m\u001b[1;33m.\u001b[0m\u001b[0mobj\u001b[0m\u001b[1;33m)\u001b[0m\u001b[1;33m\u001b[0m\u001b[0m\n\u001b[1;32m--> 178\u001b[1;33m         \u001b[0mindexer\u001b[0m \u001b[1;33m=\u001b[0m \u001b[0mself\u001b[0m\u001b[1;33m.\u001b[0m\u001b[0m_get_setitem_indexer\u001b[0m\u001b[1;33m(\u001b[0m\u001b[0mkey\u001b[0m\u001b[1;33m)\u001b[0m\u001b[1;33m\u001b[0m\u001b[0m\n\u001b[0m\u001b[0;32m    179\u001b[0m         \u001b[0mself\u001b[0m\u001b[1;33m.\u001b[0m\u001b[0m_setitem_with_indexer\u001b[0m\u001b[1;33m(\u001b[0m\u001b[0mindexer\u001b[0m\u001b[1;33m,\u001b[0m \u001b[0mvalue\u001b[0m\u001b[1;33m)\u001b[0m\u001b[1;33m\u001b[0m\u001b[0m\n\u001b[0;32m    180\u001b[0m \u001b[1;33m\u001b[0m\u001b[0m\n",
      "\u001b[1;32m~\\Anaconda3\\envs\\PythonData\\lib\\site-packages\\pandas\\core\\indexing.py\u001b[0m in \u001b[0;36m_get_setitem_indexer\u001b[1;34m(self, key)\u001b[0m\n\u001b[0;32m    155\u001b[0m         \u001b[1;32mif\u001b[0m \u001b[0misinstance\u001b[0m\u001b[1;33m(\u001b[0m\u001b[0mkey\u001b[0m\u001b[1;33m,\u001b[0m \u001b[0mtuple\u001b[0m\u001b[1;33m)\u001b[0m\u001b[1;33m:\u001b[0m\u001b[1;33m\u001b[0m\u001b[0m\n\u001b[0;32m    156\u001b[0m             \u001b[1;32mtry\u001b[0m\u001b[1;33m:\u001b[0m\u001b[1;33m\u001b[0m\u001b[0m\n\u001b[1;32m--> 157\u001b[1;33m                 \u001b[1;32mreturn\u001b[0m \u001b[0mself\u001b[0m\u001b[1;33m.\u001b[0m\u001b[0m_convert_tuple\u001b[0m\u001b[1;33m(\u001b[0m\u001b[0mkey\u001b[0m\u001b[1;33m,\u001b[0m \u001b[0mis_setter\u001b[0m\u001b[1;33m=\u001b[0m\u001b[1;32mTrue\u001b[0m\u001b[1;33m)\u001b[0m\u001b[1;33m\u001b[0m\u001b[0m\n\u001b[0m\u001b[0;32m    158\u001b[0m             \u001b[1;32mexcept\u001b[0m \u001b[0mIndexingError\u001b[0m\u001b[1;33m:\u001b[0m\u001b[1;33m\u001b[0m\u001b[0m\n\u001b[0;32m    159\u001b[0m                 \u001b[1;32mpass\u001b[0m\u001b[1;33m\u001b[0m\u001b[0m\n",
      "\u001b[1;32m~\\Anaconda3\\envs\\PythonData\\lib\\site-packages\\pandas\\core\\indexing.py\u001b[0m in \u001b[0;36m_convert_tuple\u001b[1;34m(self, key, is_setter)\u001b[0m\n\u001b[0;32m    222\u001b[0m                 \u001b[1;32mif\u001b[0m \u001b[0mi\u001b[0m \u001b[1;33m>=\u001b[0m \u001b[0mself\u001b[0m\u001b[1;33m.\u001b[0m\u001b[0mobj\u001b[0m\u001b[1;33m.\u001b[0m\u001b[0mndim\u001b[0m\u001b[1;33m:\u001b[0m\u001b[1;33m\u001b[0m\u001b[0m\n\u001b[0;32m    223\u001b[0m                     \u001b[1;32mraise\u001b[0m \u001b[0mIndexingError\u001b[0m\u001b[1;33m(\u001b[0m\u001b[1;34m'Too many indexers'\u001b[0m\u001b[1;33m)\u001b[0m\u001b[1;33m\u001b[0m\u001b[0m\n\u001b[1;32m--> 224\u001b[1;33m                 \u001b[0midx\u001b[0m \u001b[1;33m=\u001b[0m \u001b[0mself\u001b[0m\u001b[1;33m.\u001b[0m\u001b[0m_convert_to_indexer\u001b[0m\u001b[1;33m(\u001b[0m\u001b[0mk\u001b[0m\u001b[1;33m,\u001b[0m \u001b[0maxis\u001b[0m\u001b[1;33m=\u001b[0m\u001b[0mi\u001b[0m\u001b[1;33m,\u001b[0m \u001b[0mis_setter\u001b[0m\u001b[1;33m=\u001b[0m\u001b[0mis_setter\u001b[0m\u001b[1;33m)\u001b[0m\u001b[1;33m\u001b[0m\u001b[0m\n\u001b[0m\u001b[0;32m    225\u001b[0m                 \u001b[0mkeyidx\u001b[0m\u001b[1;33m.\u001b[0m\u001b[0mappend\u001b[0m\u001b[1;33m(\u001b[0m\u001b[0midx\u001b[0m\u001b[1;33m)\u001b[0m\u001b[1;33m\u001b[0m\u001b[0m\n\u001b[0;32m    226\u001b[0m         \u001b[1;32mreturn\u001b[0m \u001b[0mtuple\u001b[0m\u001b[1;33m(\u001b[0m\u001b[0mkeyidx\u001b[0m\u001b[1;33m)\u001b[0m\u001b[1;33m\u001b[0m\u001b[0m\n",
      "\u001b[1;32m~\\Anaconda3\\envs\\PythonData\\lib\\site-packages\\pandas\\core\\indexing.py\u001b[0m in \u001b[0;36m_convert_to_indexer\u001b[1;34m(self, obj, axis, is_setter)\u001b[0m\n\u001b[0;32m   1229\u001b[0m                 \u001b[0mmask\u001b[0m \u001b[1;33m=\u001b[0m \u001b[0mcheck\u001b[0m \u001b[1;33m==\u001b[0m \u001b[1;33m-\u001b[0m\u001b[1;36m1\u001b[0m\u001b[1;33m\u001b[0m\u001b[0m\n\u001b[0;32m   1230\u001b[0m                 \u001b[1;32mif\u001b[0m \u001b[0mmask\u001b[0m\u001b[1;33m.\u001b[0m\u001b[0many\u001b[0m\u001b[1;33m(\u001b[0m\u001b[1;33m)\u001b[0m\u001b[1;33m:\u001b[0m\u001b[1;33m\u001b[0m\u001b[0m\n\u001b[1;32m-> 1231\u001b[1;33m                     \u001b[1;32mraise\u001b[0m \u001b[0mKeyError\u001b[0m\u001b[1;33m(\u001b[0m\u001b[1;34m'%s not in index'\u001b[0m \u001b[1;33m%\u001b[0m \u001b[0mobjarr\u001b[0m\u001b[1;33m[\u001b[0m\u001b[0mmask\u001b[0m\u001b[1;33m]\u001b[0m\u001b[1;33m)\u001b[0m\u001b[1;33m\u001b[0m\u001b[0m\n\u001b[0m\u001b[0;32m   1232\u001b[0m \u001b[1;33m\u001b[0m\u001b[0m\n\u001b[0;32m   1233\u001b[0m                 \u001b[1;32mreturn\u001b[0m \u001b[0m_values_from_object\u001b[0m\u001b[1;33m(\u001b[0m\u001b[0mindexer\u001b[0m\u001b[1;33m)\u001b[0m\u001b[1;33m\u001b[0m\u001b[0m\n",
      "\u001b[1;31mKeyError\u001b[0m: \"['' '' '' ..., '' '' ''] not in index\""
     ]
    }
   ],
   "source": [
    "artist_group.set_value(4,artist_group[\"followers\"],\"merp\")\n",
    "\n",
    "artist_group.head()"
   ]
  },
  {
   "cell_type": "markdown",
   "metadata": {},
   "source": [
    "### Initial Spotify search"
   ]
  },
  {
   "cell_type": "markdown",
   "metadata": {},
   "source": [
    "### Append Spotify Results to Lists followers_count. genres, popularity"
   ]
  },
  {
   "cell_type": "code",
   "execution_count": 9,
   "metadata": {},
   "outputs": [
    {
     "ename": "IndexError",
     "evalue": "list index out of range",
     "output_type": "error",
     "traceback": [
      "\u001b[1;31m---------------------------------------------------------------------------\u001b[0m",
      "\u001b[1;31mIndexError\u001b[0m                                Traceback (most recent call last)",
      "\u001b[1;32m<ipython-input-9-50f9d0ec5dcb>\u001b[0m in \u001b[0;36m<module>\u001b[1;34m()\u001b[0m\n\u001b[0;32m      5\u001b[0m     \u001b[0msub\u001b[0m\u001b[1;33m=\u001b[0m\u001b[0mresult\u001b[0m\u001b[1;33m[\u001b[0m\u001b[1;34m'artists'\u001b[0m\u001b[1;33m]\u001b[0m\u001b[1;33m[\u001b[0m\u001b[1;34m\"items\"\u001b[0m\u001b[1;33m]\u001b[0m\u001b[1;33m\u001b[0m\u001b[0m\n\u001b[0;32m      6\u001b[0m \u001b[1;33m\u001b[0m\u001b[0m\n\u001b[1;32m----> 7\u001b[1;33m     \u001b[0mdf\u001b[0m\u001b[1;33m=\u001b[0m\u001b[0mdf\u001b[0m\u001b[1;33m.\u001b[0m\u001b[0mset_value\u001b[0m\u001b[1;33m(\u001b[0m\u001b[0mindex\u001b[0m\u001b[1;33m,\u001b[0m\u001b[1;34m\"followers\"\u001b[0m\u001b[1;33m,\u001b[0m\u001b[0msub\u001b[0m\u001b[1;33m[\u001b[0m\u001b[1;36m0\u001b[0m\u001b[1;33m]\u001b[0m\u001b[1;33m[\u001b[0m\u001b[1;34m\"followers\"\u001b[0m\u001b[1;33m]\u001b[0m\u001b[1;33m[\u001b[0m\u001b[1;34m\"total\"\u001b[0m\u001b[1;33m]\u001b[0m\u001b[1;33m)\u001b[0m\u001b[1;33m\u001b[0m\u001b[0m\n\u001b[0m\u001b[0;32m      8\u001b[0m \u001b[1;33m\u001b[0m\u001b[0m\n\u001b[0;32m      9\u001b[0m     \u001b[0mpopularity\u001b[0m\u001b[1;33m.\u001b[0m\u001b[0mappend\u001b[0m\u001b[1;33m(\u001b[0m\u001b[0msub\u001b[0m\u001b[1;33m[\u001b[0m\u001b[1;36m0\u001b[0m\u001b[1;33m]\u001b[0m\u001b[1;33m[\u001b[0m\u001b[1;34m\"popularity\"\u001b[0m\u001b[1;33m]\u001b[0m\u001b[1;33m)\u001b[0m\u001b[1;33m\u001b[0m\u001b[0m\n",
      "\u001b[1;31mIndexError\u001b[0m: list index out of range"
     ]
    }
   ],
   "source": [
    "# Append Spotify Results to Lists\n",
    "for index,i in enumerate(artist_group[\"main_artist\"]):\n",
    "    result = sp.search(i,limit=1, offset=0, type='artist', market=\"US\")\n",
    "    #print(result)\n",
    "    sub=result['artists'][\"items\"]\n",
    "    \n",
    "    df=df.set_value(index,df[\"followers\"],sub[0][\"followers\"][\"total\"])\n",
    "\n",
    "    popularity.append(sub[0][\"popularity\"])\n",
    "    sp_name.append(sub[0][\"name\"])\n",
    "    genres.append(sub[0][\"genres\"])\n",
    "    sp_id.append(sub[0][\"id\"])\n",
    "\n",
    "\n",
    "print(genres)"
   ]
  },
  {
   "cell_type": "markdown",
   "metadata": {},
   "source": [
    "### Zip up our lists"
   ]
  },
  {
   "cell_type": "code",
   "execution_count": null,
   "metadata": {},
   "outputs": [],
   "source": [
    "#cleaned_csv = zip(id,title,song_count,followers_count,genres,popularity)\n",
    "\n",
    "cleaned_csv = zip(artist_group[\"main_artist\"],artist_group[\"Year\"],artist_group[\"Rank\"],\n",
    "                  artist_group[\"comp_score\"], artist_group[\"pos_score\"],artist_group[\"neu_score\"],\n",
    "                  artist_group[\"neg_score\"], sp_id, sp_name, followers_count,popularity, genres)\n",
    "print(cleaned_csv)"
   ]
  },
  {
   "cell_type": "markdown",
   "metadata": {},
   "source": [
    "### Send Data to output_file"
   ]
  },
  {
   "cell_type": "code",
   "execution_count": null,
   "metadata": {
    "collapsed": true
   },
   "outputs": [],
   "source": [
    "# Send Data to output file\n",
    "output_file = os.path.join(\"billboard_artistfinal.csv\")\n",
    "with open(output_file, \"w\", newline=\"\", encoding=\"UTF-8\") as datafile:\n",
    "    writer = csv.writer(datafile)\n",
    "    \n",
    "    writer.writerow([\"main_artist\", \"avg_year\", \"avg_rank\",\"avg_comp_score\",\"avg_pos_score\",\"avg_neu_score\",\n",
    "                     \"avg_neg_score\",\"sp_id\",\"sp_name\",\"followers_count\", \"popularity\",\"genres\"])\n",
    "    \n",
    "    writer.writerows(cleaned_csv)"
   ]
  },
  {
   "cell_type": "code",
   "execution_count": null,
   "metadata": {
    "collapsed": true
   },
   "outputs": [],
   "source": []
  }
 ],
 "metadata": {
  "kernelspec": {
   "display_name": "Python 3",
   "language": "python",
   "name": "python3"
  },
  "language_info": {
   "codemirror_mode": {
    "name": "ipython",
    "version": 3
   },
   "file_extension": ".py",
   "mimetype": "text/x-python",
   "name": "python",
   "nbconvert_exporter": "python",
   "pygments_lexer": "ipython3",
   "version": "3.6.3"
  }
 },
 "nbformat": 4,
 "nbformat_minor": 2
}
